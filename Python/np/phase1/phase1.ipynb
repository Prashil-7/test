{
 "cells": [
  {
   "cell_type": "markdown",
   "id": "b5ad7200",
   "metadata": {},
   "source": [
    "numpy array and basics"
   ]
  },
  {
   "cell_type": "code",
   "execution_count": 2,
   "id": "6ba09180",
   "metadata": {},
   "outputs": [],
   "source": [
    "import numpy as np"
   ]
  },
  {
   "cell_type": "code",
   "execution_count": 2,
   "id": "853ccdec",
   "metadata": {},
   "outputs": [
    {
     "name": "stdout",
     "output_type": "stream",
     "text": [
      "arr 1D [1 2 3 4]\n"
     ]
    }
   ],
   "source": [
    "arrr_1D = np.array([1,2,3,4])\n",
    "print(\"arr 1D\", arrr_1D)"
   ]
  },
  {
   "cell_type": "code",
   "execution_count": 3,
   "id": "a3e20350",
   "metadata": {},
   "outputs": [
    {
     "name": "stdout",
     "output_type": "stream",
     "text": [
      "arrays 2D [[1 2 3]\n",
      " [1 2 3]]\n"
     ]
    }
   ],
   "source": [
    "arr_2D = np.array([[1,2,3],[1,2,3]])\n",
    "print(\"arrays 2D\", arr_2D)"
   ]
  },
  {
   "cell_type": "markdown",
   "id": "506017ba",
   "metadata": {},
   "source": [
    "list vs numpy arrays\n"
   ]
  },
  {
   "cell_type": "code",
   "execution_count": 5,
   "id": "f96a5e81",
   "metadata": {},
   "outputs": [
    {
     "name": "stdout",
     "output_type": "stream",
     "text": [
      "the multipy list [1, 2, 3, 4, 1, 2, 3, 4]\n",
      "the multipy numpy [2 4 6 8]\n"
     ]
    }
   ],
   "source": [
    "##multipy both\n",
    "\n",
    "list_py = [1,2,3,4]\n",
    "print(\"the multipy list\", list_py * 2)\n",
    "arr_np = np.array([1,2,3,4]) ## elements wise multiplication\n",
    "print(\"the multipy numpy\", arr_np * 2)"
   ]
  },
  {
   "cell_type": "code",
   "execution_count": 13,
   "id": "c5b7df3f",
   "metadata": {},
   "outputs": [
    {
     "name": "stdout",
     "output_type": "stream",
     "text": [
      "the time taken for list 0.07591724395751953\n",
      "the time taken for arange 0.11213564872741699\n",
      "the time taken for numpyarr 0.11222028732299805\n"
     ]
    }
   ],
   "source": [
    "import time\n",
    "start = time.time()\n",
    "py_lsit = [i*2 for i in range(1000000)] # its very slow\n",
    "print(\"the time taken for list\", time.time() - start)\n",
    "\n",
    "start_numpy = time.time()\n",
    "np_array = np.array([i*2 for i in range(1000000)]) # its very slow  \n",
    "# arrange havve a better performance with \n",
    "# start - stop - step   step\n",
    "# step is optional and means the difference between two elements\n",
    "np_arange = np.arange(1000000) * 2  # its very fast\n",
    "print(\"the time taken for arange\", time.time() - start_numpy)  \n",
    "print(\"the time taken for numpyarr\", time.time() - start_numpy)"
   ]
  },
  {
   "cell_type": "markdown",
   "id": "fba5bddc",
   "metadata": {},
   "source": [
    "creating array from scrash"
   ]
  },
  {
   "cell_type": "code",
   "execution_count": 3,
   "id": "643a5906",
   "metadata": {},
   "outputs": [
    {
     "name": "stdout",
     "output_type": "stream",
     "text": [
      "the zeros array [[0. 0. 0.]\n",
      " [0. 0. 0.]]\n",
      "the ones array [[1. 1. 1.]\n",
      " [1. 1. 1.]]\n",
      "the full array [[5 5]\n",
      " [5 5]]\n",
      "the identity matrix [[1. 0. 0.]\n",
      " [0. 1. 0.]\n",
      " [0. 0. 1.]]\n",
      "the eye matrix [[1. 0. 0.]\n",
      " [0. 1. 0.]\n",
      " [0. 0. 1.]]\n",
      "the random array [[0.5018497  0.25232399 0.62655161]\n",
      " [0.23764313 0.14713839 0.78857082]]\n",
      "the random int array [[9 9 6]\n",
      " [9 2 8]]\n",
      "the sequence array [1 3 5 7 9]\n",
      "the linspace array [ 1.   2.8  4.6  6.4  8.2 10. ]\n"
     ]
    }
   ],
   "source": [
    "zeros = np.zeros((2,3)) # 2 rows and 3 columns\n",
    "print(\"the zeros array\", zeros)\n",
    "\n",
    "ones = np.ones((2,3)) # 2 rows and 3 columns\n",
    "print(\"the ones array\", ones)\n",
    "\n",
    "full = np.full((2,2), 5) # 2 rows and 3 columns with all elements as 5\n",
    "print(\"the full array\", full)\n",
    "\n",
    "identity = np.identity(3) # 3x3 identity matrix\n",
    "print(\"the identity matrix\", identity)\n",
    "\n",
    "eye = np.eye(3) # 3x3 identity matrix\n",
    "print(\"the eye matrix\", eye)\n",
    "\n",
    "random = np.random.rand(2,3) # 2 rows and 3 columns with random values\n",
    "print(\"the random array\", random)\n",
    "\n",
    "random_int = np.random.randint(1, 10, (2,3)) # 2 rows and 3 columns with random integers between 1 and 10\n",
    "print(\"the random int array\", random_int)\n",
    "\n",
    "squence = np.arange(1, 10, 2) # start - stop - step\n",
    "print(\"the sequence array\", squence)\n",
    "\n",
    "linspace = np.linspace(1, 10, 6) # start - stop - number of elements\n",
    "print(\"the linspace array\", linspace)\n"
   ]
  },
  {
   "cell_type": "markdown",
   "id": "bd8e829f",
   "metadata": {},
   "source": [
    "Vector Matrix and Tensor\n"
   ]
  },
  {
   "cell_type": "code",
   "execution_count": 23,
   "id": "71461b36",
   "metadata": {},
   "outputs": [
    {
     "name": "stdout",
     "output_type": "stream",
     "text": [
      "the vector [1 2 3 4 5]\n",
      "the matrix [[1 2 3]\n",
      " [4 5 6]]\n",
      "the tensor [[[1 2]\n",
      "  [3 4]]\n",
      "\n",
      " [[5 6]\n",
      "  [7 8]]]\n"
     ]
    }
   ],
   "source": [
    "vector = np.array([1,2,3,4,5]) # 1D vector\n",
    "print(\"the vector\", vector)\n",
    "\n",
    "matrix = np.array([[1,2,3],\n",
    "                   [4,5,6]]) # 2D matrix\n",
    "print(\"the matrix\", matrix)\n",
    "\n",
    "tensor = np.array([[[1,2],[3,4]],\n",
    "                   [[5,6], [7,8]]]) # 3D tensor\n",
    "print(\"the tensor\", tensor)"
   ]
  },
  {
   "cell_type": "markdown",
   "id": "6bb93aec",
   "metadata": {},
   "source": [
    "arrays properties"
   ]
  },
  {
   "cell_type": "code",
   "execution_count": 31,
   "id": "891ec838",
   "metadata": {},
   "outputs": [
    {
     "name": "stdout",
     "output_type": "stream",
     "text": [
      "the array [[1 2 3 4]\n",
      " [5 6 7 8]]\n",
      "shape (2, 4)\n",
      "size 8\n",
      "dtype int64\n",
      "Dimension 2\n",
      "itemsize 8\n",
      "nbytes 64\n",
      "T [[1 5]\n",
      " [2 6]\n",
      " [3 7]\n",
      " [4 8]]\n",
      "flatten [1 2 3 4 5 6 7 8]\n",
      "reshape [[1 2 3 4]\n",
      " [5 6 7 8]]\n",
      "max 8\n",
      "min 1\n",
      "sum 36\n",
      "mean 4.5\n",
      "std 2.29128784747792\n",
      "var 5.25\n",
      "argmax 7\n",
      "argmin 0\n",
      "sort [[1 2 3 4]\n",
      " [5 6 7 8]]\n",
      "unique [1 2 3 4 5 6 7 8]\n",
      "where (array([1, 1, 1]), array([1, 2, 3]))\n",
      "all True\n",
      "any True\n",
      "clip [[3 3 3 4]\n",
      " [5 6 6 6]]\n",
      "argsort [[0 1 2 3]\n",
      " [0 1 2 3]]\n",
      "diagonal [1 6]\n",
      "trace 7\n",
      "dot product [[ 30  70]\n",
      " [ 70 174]]\n",
      "outer product [[ 1  2  3  4  5]\n",
      " [ 2  4  6  8 10]\n",
      " [ 3  6  9 12 15]\n",
      " [ 4  8 12 16 20]\n",
      " [ 5 10 15 20 25]]\n",
      "inner product 55\n",
      "einsum [[1 5]\n",
      " [2 6]\n",
      " [3 7]\n",
      " [4 8]]\n",
      "broadcasting [[11 12 13 14]\n",
      " [15 16 17 18]]\n"
     ]
    }
   ],
   "source": [
    "arr = np.array([[1,2,3,4], [5,6,7,8]]) # 2D array\n",
    "print(\"the array\", arr)\n",
    "print(\"shape\", arr.shape)\n",
    "print(\"size\", arr.size)\n",
    "print(\"dtype\", arr.dtype)\n",
    "print(\"Dimension\", arr.ndim) # number of dimensions\n",
    "print(\"itemsize\", arr.itemsize) # size of each element in bytes\n",
    "print(\"nbytes\", arr.nbytes) # total size of the array in bytes\n",
    "print(\"T\", arr.T) # transpose of the array\n",
    "print(\"flatten\", arr.flatten()) # flatten the array\n",
    "print(\"reshape\", arr.reshape(2,4)) # reshape the array to 2x2\n",
    "print(\"max\", arr.max()) # maximum value in the array\n",
    "print(\"min\", arr.min()) # minimum value in the array\n",
    "print(\"sum\", arr.sum()) # sum of the elements in the array\n",
    "print(\"mean\", arr.mean()) # mean of the elements in the array\n",
    "print(\"std\", arr.std()) # standard deviation of the elements in the array\n",
    "print(\"var\", arr.var()) # variance of the elements in the array\n",
    "print(\"argmax\", arr.argmax()) # index of the maximum value in the array\n",
    "print(\"argmin\", arr.argmin()) # index of the minimum value in the array\n",
    "print(\"sort\", np.sort(arr)) # sort the array\n",
    "print(\"unique\", np.unique(arr)) # unique elements in the array\n",
    "print(\"where\", np.where(arr > 5)) # indices of the elements greater than 5\n",
    "print(\"all\", np.all(arr > 0)) # check if all elements are greater than 0\n",
    "print(\"any\", np.any(arr > 5)) # check if any element is greater than 5\n",
    "print(\"clip\", arr.clip(3, 6)) # clip the values between 3 and 6\n",
    "print(\"argsort\", arr.argsort()) # indices that would sort the array\n",
    "print(\"diagonal\", np.diagonal(arr)) # diagonal elements of the array\n",
    "print(\"trace\", np.trace(arr)) # trace of the array\n",
    "print(\"dot product\", np.dot(arr, arr.T)) # dot product of the array with its transpose\n",
    "#print(\"cross product\", np.cross(vector, vector)) # cross product of the vector with itself\n",
    "print(\"outer product\", np.outer(vector, vector)) # outer product of the vector with itself\n",
    "print(\"inner product\", np.inner(vector, vector)) # inner product of the vector with itself\n",
    "print(\"einsum\", np.einsum('ij->ji', arr)) # einsum notation for array manipulation  \n",
    "print(\"broadcasting\", arr + 10) # broadcasting the array with a scalar"
   ]
  },
  {
   "cell_type": "code",
   "execution_count": null,
   "id": "5bf93540",
   "metadata": {},
   "outputs": [],
   "source": [
    "arr = np.array([[1,2,3,4], [5,6,7,8]]) # 2D array\n",
    "print(\"the array\", arr)\n"
   ]
  }
 ],
 "metadata": {
  "kernelspec": {
   "display_name": ".venv (3.13.3)",
   "language": "python",
   "name": "python3"
  },
  "language_info": {
   "codemirror_mode": {
    "name": "ipython",
    "version": 3
   },
   "file_extension": ".py",
   "mimetype": "text/x-python",
   "name": "python",
   "nbconvert_exporter": "python",
   "pygments_lexer": "ipython3",
   "version": "3.13.3"
  }
 },
 "nbformat": 4,
 "nbformat_minor": 5
}
