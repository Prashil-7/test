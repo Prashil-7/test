{
 "cells": [
  {
   "cell_type": "markdown",
   "id": "df202b50",
   "metadata": {},
   "source": [
    "NUmpy arrayas operations"
   ]
  },
  {
   "cell_type": "code",
   "execution_count": 2,
   "id": "e094830c",
   "metadata": {},
   "outputs": [],
   "source": [
    "import numpy as np"
   ]
  },
  {
   "cell_type": "code",
   "execution_count": 4,
   "id": "014218a7",
   "metadata": {},
   "outputs": [
    {
     "name": "stdout",
     "output_type": "stream",
     "text": [
      "basic sliccing [3. 4.]\n"
     ]
    }
   ],
   "source": [
    "arr = np.array([1, 2, 3, 4, 5.6, 6, 7, 8, 9, 10])\n",
    "print(\"basic sliccing\", arr[2:4])  # Slicing from index 2 to 4 (exclusive   )"
   ]
  },
  {
   "cell_type": "code",
   "execution_count": null,
   "id": "addf3abb",
   "metadata": {},
   "outputs": [],
   "source": []
  },
  {
   "cell_type": "markdown",
   "id": "e4811536",
   "metadata": {},
   "source": [
    "    2D arrays ki indexing slicicng "
   ]
  },
  {
   "cell_type": "code",
   "execution_count": 12,
   "id": "9aa46c7a",
   "metadata": {},
   "outputs": [
    {
     "name": "stdout",
     "output_type": "stream",
     "text": [
      "2D arrays Slicing specific element 6\n",
      "entire rows [4 5 6]\n",
      "entire col [2 5 8]\n"
     ]
    }
   ],
   "source": [
    "arr2D = np.array([[1, 2, 3], \n",
    "                  [4, 5, 6],\n",
    "                  [7, 8, 9]])\n",
    "print(\"2D arrays Slicing specific element\",arr2D[1,2] )\n",
    "print(\"entire rows\" , arr2D[1])\n",
    "print( \"entire col\", arr2D[:,1])"
   ]
  },
  {
   "cell_type": "markdown",
   "id": "4e8c76b4",
   "metadata": {},
   "source": [
    "Sorting in arrays\n"
   ]
  },
  {
   "cell_type": "code",
   "execution_count": 4,
   "id": "a090b43c",
   "metadata": {},
   "outputs": [
    {
     "name": "stdout",
     "output_type": "stream",
     "text": [
      "sorted array [1 2 3 4 5]\n",
      "sorted 2d by col [[2 1 4]\n",
      " [3 5 6]\n",
      " [7 8 9]]\n",
      "sorted 22d by col [[1 3 4]\n",
      " [2 5 6]\n",
      " [7 8 9]]\n"
     ]
    }
   ],
   "source": [
    "unsorted_arr = np.array([3, 1, 4, 2, 5])\n",
    "sorted_arr = np.sort(unsorted_arr)\n",
    "print(\"sorted array\", sorted_arr)  # Sorts the array in ascending order\n",
    "\n",
    "arr_2d_Unsorted = np.array([[3, 1, 4],\n",
    "                            [2, 5, 6],\n",
    "                            [7, 8, 9]])\n",
    "print(\"sorted 2d by col\", np.sort(arr_2d_Unsorted, axis=0)) \n",
    "print(\"sorted 2d by row\", np.sort(arr_2d_Unsorted, axis=1))# Sort by columns"
   ]
  },
  {
   "cell_type": "markdown",
   "id": "709af74a",
   "metadata": {},
   "source": [
    "## filtering the arrays"
   ]
  },
  {
   "cell_type": "code",
   "execution_count": 5,
   "id": "66560164",
   "metadata": {},
   "outputs": [
    {
     "name": "stdout",
     "output_type": "stream",
     "text": [
      "filtering the array [ 6  7  8  9 10]\n",
      "filtering the array [ 2  4  6  8 10]\n",
      "filtering the array [ 2  4  6  8 10]\n"
     ]
    }
   ],
   "source": [
    "numbs = np.array([1, 2, 3, 4, 5, 6, 7, 8, 9, 10])\n",
    "print(\"filtering the array\", numbs[numbs > 5])  # Filtering elements\n",
    "enven = numbs[numbs % 2 == 0]  # Filtering even numbers\n",
    "print(\"filtering the array\", enven)  # Filtering even numbers\n",
    "print(\"filtering the array\", numbs[numbs % 2 == 0]) #also filtering even numbers"
   ]
  },
  {
   "cell_type": "markdown",
   "id": "d53f7249",
   "metadata": {},
   "source": [
    "## Filter with mask"
   ]
  },
  {
   "cell_type": "code",
   "execution_count": 6,
   "id": "96b20140",
   "metadata": {},
   "outputs": [
    {
     "name": "stdout",
     "output_type": "stream",
     "text": [
      "filtering with mask [ 6  7  8  9 10]\n"
     ]
    }
   ],
   "source": [
    "mask = numbs > 5\n",
    "print(\"filtering with mask\", numbs[mask])  # Filtering with mask"
   ]
  },
  {
   "cell_type": "markdown",
   "id": "aaeba337",
   "metadata": {},
   "source": [
    "## fancy indexing and np.where()"
   ]
  },
  {
   "cell_type": "code",
   "execution_count": 9,
   "id": "60bc2dc4",
   "metadata": {},
   "outputs": [
    {
     "name": "stdout",
     "output_type": "stream",
     "text": [
      " ye index se item return karta hai [1 3 5]\n",
      "where NP : [ 7  8  9 10]\n"
     ]
    }
   ],
   "source": [
    "indices = [0,2,4]  # List of indices to select specific elements from the array\n",
    "print(\" ye index se item return karta hai\", numbs[indices])  # Returns elements at indices 0, 2, and 4 from 'numbs'\n",
    "\n",
    "where_result = np.where(numbs > 6)  # Returns the indices where the condition (numbs > 6) is True\n",
    "print(\"where NP :\", numbs[where_result])  # Prints the elements of 'numbs' where the value is greater than 6"
   ]
  },
  {
   "cell_type": "code",
   "execution_count": 14,
   "id": "bbd22cc6",
   "metadata": {},
   "outputs": [
    {
     "name": "stdout",
     "output_type": "stream",
     "text": [
      "[ 1  2  3  4  5 12 14 16 18 20]\n",
      "the true false arr ['false' 'false' 'false' 'false' 'false' 'true' 'true' 'true' 'true'\n",
      " 'true']\n"
     ]
    }
   ],
   "source": [
    "condition_arr = np.where(numbs > 5, numbs*2, numbs) \n",
    "# If element in 'numbs' > 5, multiply by 2, else keep original value\n",
    "print(condition_arr)  # Prints the resulting array after applying the condition\n",
    "\n",
    "con = np.where(numbs> 5 , \"true\", \"false\")\n",
    "print(\"the true false arr\", con)"
   ]
  },
  {
   "cell_type": "markdown",
   "id": "95ef1053",
   "metadata": {},
   "source": [
    "## adding and removing data"
   ]
  },
  {
   "cell_type": "code",
   "execution_count": null,
   "id": "51223b38",
   "metadata": {},
   "outputs": [
    {
     "name": "stdout",
     "output_type": "stream",
     "text": [
      "[ 8 10 12 14 16 18]\n",
      "[ 1  2  3  4  5  6  7  8  9 10 11 12]\n"
     ]
    }
   ],
   "source": [
    "arr1 = np.array([1,2,3,4,5,6])  # Create a 1D numpy array 'arr1'\n",
    "arr2 = np.array([7,8,9,10,11,12])  # Create another 1D numpy array 'arr2' of the same shape\n",
    "combine_arrays = arr1 + arr2  # Element-wise addition of arr1 and arr2\n",
    "print(combine_arrays)  # Print the result of element-wise addition\n",
    "combine_arrys = np.concatenate((arr1, arr2))  # Concatenate arr1 and arr2 into a single array\n",
    "print(combine_arrys)  # Print"
   ]
  },
  {
   "cell_type": "markdown",
   "id": "dd6a766a",
   "metadata": {},
   "source": [
    "arrays compatibity"
   ]
  },
  {
   "cell_type": "code",
   "execution_count": null,
   "id": "abb8bed9",
   "metadata": {},
   "outputs": [
    {
     "name": "stdout",
     "output_type": "stream",
     "text": [
      "comnpatibility shape True\n",
      "False\n"
     ]
    }
   ],
   "source": [
    "a = np.array([1,2,3,4,5])   # Create a 1D numpy array 'a'\n",
    "b = np.array([6,7,8,9,10])  # Create another 1D numpy array 'b' with the same shape as 'a'\n",
    "c = np.array([11,12,13,14]) # Create a 1D numpy array 'c' with a different shape\n",
    "\n",
    "print(\"comnpatibility shape\", a.shape == b.shape)  # Check if 'a' and 'b' have the same shape (compatible for element-wise operations)\n",
    "print(a.shape == c.shape)  # Check if 'a' and 'c' have the same shape"
   ]
  },
  {
   "cell_type": "markdown",
   "id": "3be16225",
   "metadata": {},
   "source": [
    "adding new rows and colums"
   ]
  },
  {
   "cell_type": "code",
   "execution_count": 28,
   "id": "37451232",
   "metadata": {},
   "outputs": [
    {
     "name": "stdout",
     "output_type": "stream",
     "text": [
      "new array with row [[1 2 3]\n",
      " [4 5 6]\n",
      " [7 8 9]]\n",
      "new array with row using vstack [[1 2 3]\n",
      " [4 5 6]\n",
      " [7 8 9]]\n",
      "new array with col [[1 2 3 4]\n",
      " [4 5 6 7]]\n",
      "new array with col using hstack [[1 2 3 4]\n",
      " [4 5 6 7]]\n"
     ]
    }
   ],
   "source": [
    "original_array = np.array([[1, 2, 3],\n",
    "                           [4, 5, 6]])\n",
    "new_row = np.array([7, 8, 9])\n",
    "\n",
    "# Adding a new row\n",
    "new_array_with_row = np.append(original_array, [new_row], axis=0)\n",
    "print(\"new array with row\", new_array_with_row)\n",
    "\n",
    "new_row_vstack = np.vstack((original_array, new_row))\n",
    "print(\"new array with row using vstack\", new_row_vstack)\n",
    "\n",
    "\n",
    "\n",
    "# Adding a new column\n",
    "new_col = np.array([[4], [7]])\n",
    "new_array_with_col = np.append(original_array, new_col, axis=1)\n",
    "print(\"new array with col\", new_array_with_col)\n",
    "\n",
    "\n",
    "new_col_hstack = np.hstack((original_array, new_col))\n",
    "print(\"new array with col using hstack\", new_col_hstack)\n"
   ]
  },
  {
   "cell_type": "markdown",
   "id": "81b5641c",
   "metadata": {},
   "source": [
    "delelte arrqys"
   ]
  },
  {
   "cell_type": "code",
   "execution_count": null,
   "id": "de3c7504",
   "metadata": {},
   "outputs": [
    {
     "name": "stdout",
     "output_type": "stream",
     "text": [
      "new array after row deletion [[1 2 3]\n",
      " [7 8 9]]\n"
     ]
    }
   ],
   "source": [
    "# Create a 2D numpy array (3x3)\n",
    "arrays = np.array([[1, 2, 3],\n",
    "                   [4, 5, 6],\n",
    "                   [7, 8, 9]])\n",
    "\n",
    "delete_row = 1  # Index of the row to delete (second row, since indexing starts at 0)\n",
    "\n",
    "# Delete the specified row from the array (axis=0 means row)\n",
    "new_array_after_row_deletion = np.delete(arrays, delete_row,"
   ]
  }
 ],
 "metadata": {
  "kernelspec": {
   "display_name": ".venv (3.13.3)",
   "language": "python",
   "name": "python3"
  },
  "language_info": {
   "codemirror_mode": {
    "name": "ipython",
    "version": 3
   },
   "file_extension": ".py",
   "mimetype": "text/x-python",
   "name": "python",
   "nbconvert_exporter": "python",
   "pygments_lexer": "ipython3",
   "version": "3.13.3"
  }
 },
 "nbformat": 4,
 "nbformat_minor": 5
}
